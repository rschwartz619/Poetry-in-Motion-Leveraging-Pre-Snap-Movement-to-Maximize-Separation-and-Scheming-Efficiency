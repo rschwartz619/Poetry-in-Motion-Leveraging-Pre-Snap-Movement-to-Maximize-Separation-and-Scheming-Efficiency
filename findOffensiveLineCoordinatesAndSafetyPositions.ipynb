{
 "cells": [
  {
   "cell_type": "code",
   "execution_count": 24,
   "metadata": {},
   "outputs": [],
   "source": [
    "import pandas as pd"
   ]
  },
  {
   "cell_type": "code",
   "execution_count": 67,
   "metadata": {},
   "outputs": [],
   "source": [
    "df = pd.read_csv('tracking_week_1.csv')\n",
    "df2 = pd.read_csv(\"tracking_week_2.csv\")\n",
    "df3 = pd.read_csv(\"tracking_week_3.csv\")\n",
    "df4 = pd.read_csv(\"tracking_week_4.csv\")\n",
    "df5 = pd.read_csv(\"tracking_week_5.csv\")\n",
    "df6 = pd.read_csv(\"tracking_week_6.csv\")\n",
    "df7 = pd.read_csv(\"tracking_week_7.csv\")\n",
    "df8 = pd.read_csv(\"tracking_week_8.csv\")\n",
    "df9 = pd.read_csv(\"tracking_week_9.csv\")\n",
    "players = pd.read_csv('players.csv')"
   ]
  },
  {
   "cell_type": "code",
   "execution_count": 68,
   "metadata": {},
   "outputs": [],
   "source": [
    "dfs = [df, df2, df3, df4, df5, df6, df7, df8, df9]\n",
    "\n",
    "df = pd.concat(dfs, axis=0, ignore_index=True)"
   ]
  },
  {
   "cell_type": "code",
   "execution_count": 61,
   "metadata": {},
   "outputs": [],
   "source": [
    "positions = pd.merge(\n",
    "    df[['gameId','playId','nflId','y']][df['frameType']=='SNAP'],\n",
    "    players[['nflId','position']],\n",
    "    how = \"left\",\n",
    "    on = 'nflId'\n",
    ")\n"
   ]
  },
  {
   "cell_type": "code",
   "execution_count": 62,
   "metadata": {},
   "outputs": [],
   "source": [
    "lineman = ['T','C','G','FB']"
   ]
  },
  {
   "cell_type": "code",
   "execution_count": 63,
   "metadata": {},
   "outputs": [],
   "source": [
    "oline = positions[positions['position'].isin(lineman)]"
   ]
  },
  {
   "cell_type": "code",
   "execution_count": 64,
   "metadata": {},
   "outputs": [
    {
     "name": "stderr",
     "output_type": "stream",
     "text": [
      "C:\\Users\\bhaga\\AppData\\Local\\Temp\\ipykernel_33440\\1092303416.py:30: FutureWarning: The behavior of DataFrame concatenation with empty or all-NA entries is deprecated. In a future version, this will no longer exclude empty or all-NA columns when determining the result dtypes. To retain the old behavior, exclude the relevant entries before the concat operation.\n",
      "  linecoords = pd.concat([linecoords, new_row], ignore_index=True)\n"
     ]
    }
   ],
   "source": [
    "linecoords = pd.DataFrame(columns=['gameId','playId','topOfLine','bottomOfLine'])\n",
    "for _, i in oline.iterrows():\n",
    "    inplay = ((linecoords['gameId'] == i['gameId']) & (linecoords['playId'] == i['playId'])).any()\n",
    "    \n",
    "    if not inplay:\n",
    "        play = oline[(oline['gameId'] == i['gameId']) & \n",
    "                           (oline['playId'] == i['playId'])]\n",
    "        \n",
    "        thisplay = []\n",
    "        thisplay.extend([\n",
    "            i['gameId'],\n",
    "            i['playId'],\n",
    "        ])\n",
    "\n",
    "\n",
    "        max = 0\n",
    "        min = float(\"inf\")\n",
    "        for _, j in play.iterrows():\n",
    "            if j['y'] > max:\n",
    "                max = j['y']\n",
    "            elif j['y'] < min:\n",
    "                min = j['y']\n",
    "\n",
    "        thisplay.extend([\n",
    "            max,\n",
    "            min\n",
    "        ])\n",
    "\n",
    "        new_row = pd.DataFrame([thisplay], columns=linecoords.columns)\n",
    "        linecoords = pd.concat([linecoords, new_row], ignore_index=True)"
   ]
  },
  {
   "cell_type": "code",
   "execution_count": null,
   "metadata": {},
   "outputs": [],
   "source": [
    "linecoords.to_csv(\"linecoods.csv\")"
   ]
  },
  {
   "cell_type": "code",
   "execution_count": 79,
   "metadata": {},
   "outputs": [],
   "source": [
    "playerCoords = df[['gameId','playId','nflId','x','y']][df['frameType']==\"SNAP\"]"
   ]
  },
  {
   "cell_type": "code",
   "execution_count": 80,
   "metadata": {},
   "outputs": [],
   "source": [
    "playerCoords = pd.merge(\n",
    "    playerCoords,\n",
    "    players[['nflId','position']],\n",
    "    how=\"left\",\n",
    "    on=['nflId']\n",
    ")"
   ]
  },
  {
   "cell_type": "code",
   "execution_count": 84,
   "metadata": {},
   "outputs": [],
   "source": [
    "playerCoords = playerCoords[(playerCoords['position']==\"FS\")|(playerCoords['position']==\"SS\")]"
   ]
  },
  {
   "cell_type": "code",
   "execution_count": 83,
   "metadata": {},
   "outputs": [],
   "source": [
    "plays = pd.read_csv(\"plays.csv\")"
   ]
  },
  {
   "cell_type": "code",
   "execution_count": 88,
   "metadata": {},
   "outputs": [],
   "source": [
    "playerCoords = pd.merge(\n",
    "    playerCoords,\n",
    "    plays[['gameId','playId','absoluteYardlineNumber']],\n",
    "    how = \"left\",\n",
    "    on=['gameId','playId']\n",
    ")"
   ]
  },
  {
   "cell_type": "code",
   "execution_count": 91,
   "metadata": {},
   "outputs": [],
   "source": [
    "safetyPos = pd.DataFrame(columns=['gameId','playId','safetyTop','safetyBottom'])\n",
    "for _, i in playerCoords.iterrows():\n",
    "    inplay = ((safetyPos['gameId'] == i['gameId']) & (safetyPos['playId'] == i['playId'])).any()\n",
    "    \n",
    "    if not inplay:\n",
    "        play = playerCoords[(playerCoords['gameId'] == i['gameId']) & \n",
    "                           (playerCoords['playId'] == i['playId'])]\n",
    "        \n",
    "        thisplay = []\n",
    "        thisplay.extend([\n",
    "            i['gameId'],\n",
    "            i['playId'],\n",
    "        ])\n",
    "\n",
    "\n",
    "        top = 0\n",
    "        bottom = 0\n",
    "        for _, j in play.iterrows():\n",
    "            if j['y'] > 26.6:\n",
    "                top += 1\n",
    "            elif j['y'] <= 26.6:\n",
    "                bottom += 1\n",
    "\n",
    "        thisplay.extend([\n",
    "            top,\n",
    "            bottom\n",
    "        ])\n",
    "\n",
    "        new_row = pd.DataFrame([thisplay], columns=safetyPos.columns)\n",
    "        safetyPos = pd.concat([safetyPos, new_row], ignore_index=True)"
   ]
  },
  {
   "cell_type": "code",
   "execution_count": 93,
   "metadata": {},
   "outputs": [],
   "source": [
    "safetyPos.to_csv(\"safetyPositions\")"
   ]
  }
 ],
 "metadata": {
  "kernelspec": {
   "display_name": "Python 3",
   "language": "python",
   "name": "python3"
  },
  "language_info": {
   "codemirror_mode": {
    "name": "ipython",
    "version": 3
   },
   "file_extension": ".py",
   "mimetype": "text/x-python",
   "name": "python",
   "nbconvert_exporter": "python",
   "pygments_lexer": "ipython3",
   "version": "3.12.0"
  }
 },
 "nbformat": 4,
 "nbformat_minor": 2
}
